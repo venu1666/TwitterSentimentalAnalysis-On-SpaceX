{
 "cells": [
  {
   "cell_type": "code",
   "execution_count": 71,
   "metadata": {},
   "outputs": [],
   "source": [
    "from nltk.sentiment.vader import SentimentIntensityAnalyzer\n",
    "import tweepy\n",
    "import pandas as pd"
   ]
  },
  {
   "cell_type": "code",
   "execution_count": 76,
   "metadata": {},
   "outputs": [],
   "source": [
    "consumer_key = 'eoy0249oTwULPQAKlo2MXq72v'\n",
    "consumer_secret = '0H8lsxePE0OLbS78Xp3wjAsXHFYV0w0ZSyBeqp3mOZ9xZr4zkJ'\n",
    "access_token = '3377250249-ONAGRnp87I8n9hIXfcXbgeoan3jCoycbOyM12MP'\n",
    "access_token_secret = 'btAxdc0uLFafpebke1JH40XPEybkacgXj8pgm2RPEryJR'"
   ]
  },
  {
   "cell_type": "code",
   "execution_count": 77,
   "metadata": {},
   "outputs": [],
   "source": [
    "auth = tweepy.OAuthHandler(consumer_key, consumer_secret)\n",
    "auth.set_access_token(access_token, access_token_secret)\n",
    "api = tweepy.API(auth)\n",
    "tweets=api.search('SpaceX',count=10)"
   ]
  },
  {
   "cell_type": "code",
   "execution_count": 79,
   "metadata": {},
   "outputs": [
    {
     "data": {
      "text/html": [
       "<div>\n",
       "<style scoped>\n",
       "    .dataframe tbody tr th:only-of-type {\n",
       "        vertical-align: middle;\n",
       "    }\n",
       "\n",
       "    .dataframe tbody tr th {\n",
       "        vertical-align: top;\n",
       "    }\n",
       "\n",
       "    .dataframe thead th {\n",
       "        text-align: right;\n",
       "    }\n",
       "</style>\n",
       "<table border=\"1\" class=\"dataframe\">\n",
       "  <thead>\n",
       "    <tr style=\"text-align: right;\">\n",
       "      <th></th>\n",
       "      <th>Tweets</th>\n",
       "    </tr>\n",
       "  </thead>\n",
       "  <tbody>\n",
       "    <tr>\n",
       "      <th>0</th>\n",
       "      <td>RT @mfletcherchristian: This may be counterint...</td>\n",
       "    </tr>\n",
       "    <tr>\n",
       "      <th>1</th>\n",
       "      <td>RT @JrAstronautin: @SpaceX @SpaceHolgar Congra...</td>\n",
       "    </tr>\n",
       "    <tr>\n",
       "      <th>2</th>\n",
       "      <td>RT @SpaceX: Starlink satellites are equipped w...</td>\n",
       "    </tr>\n",
       "    <tr>\n",
       "      <th>3</th>\n",
       "      <td>RT @SpaceX: Falcon 9 launches 60 Starlink sate...</td>\n",
       "    </tr>\n",
       "    <tr>\n",
       "      <th>4</th>\n",
       "      <td>RT @elonmusk: @SpaceX Fairing halves recovered...</td>\n",
       "    </tr>\n",
       "    <tr>\n",
       "      <th>5</th>\n",
       "      <td>RT @thesheetztweetz: Scoop: @SpaceX amended it...</td>\n",
       "    </tr>\n",
       "    <tr>\n",
       "      <th>6</th>\n",
       "      <td>RT @novogratz: Wish they would tokenize @Space...</td>\n",
       "    </tr>\n",
       "    <tr>\n",
       "      <th>7</th>\n",
       "      <td>RT @Barnacules: Who else is excited for global...</td>\n",
       "    </tr>\n",
       "    <tr>\n",
       "      <th>8</th>\n",
       "      <td>RT @SpaceX: Starlink will connect the globe wi...</td>\n",
       "    </tr>\n",
       "  </tbody>\n",
       "</table>\n",
       "</div>"
      ],
      "text/plain": [
       "                                              Tweets\n",
       "0  RT @mfletcherchristian: This may be counterint...\n",
       "1  RT @JrAstronautin: @SpaceX @SpaceHolgar Congra...\n",
       "2  RT @SpaceX: Starlink satellites are equipped w...\n",
       "3  RT @SpaceX: Falcon 9 launches 60 Starlink sate...\n",
       "4  RT @elonmusk: @SpaceX Fairing halves recovered...\n",
       "5  RT @thesheetztweetz: Scoop: @SpaceX amended it...\n",
       "6  RT @novogratz: Wish they would tokenize @Space...\n",
       "7  RT @Barnacules: Who else is excited for global...\n",
       "8  RT @SpaceX: Starlink will connect the globe wi..."
      ]
     },
     "metadata": {},
     "output_type": "display_data"
    },
    {
     "name": "stdout",
     "output_type": "stream",
     "text": [
      "2019-05-24 18:28:52\n"
     ]
    }
   ],
   "source": [
    "data = pd.DataFrame(data=[tweet.text for tweet in tweets], columns=['Tweets'])\n",
    "display(data.head(10))\n",
    "print(tweets[0].created_at)"
   ]
  },
  {
   "cell_type": "code",
   "execution_count": 80,
   "metadata": {},
   "outputs": [
    {
     "data": {
      "text/html": [
       "<div>\n",
       "<style scoped>\n",
       "    .dataframe tbody tr th:only-of-type {\n",
       "        vertical-align: middle;\n",
       "    }\n",
       "\n",
       "    .dataframe tbody tr th {\n",
       "        vertical-align: top;\n",
       "    }\n",
       "\n",
       "    .dataframe thead th {\n",
       "        text-align: right;\n",
       "    }\n",
       "</style>\n",
       "<table border=\"1\" class=\"dataframe\">\n",
       "  <thead>\n",
       "    <tr style=\"text-align: right;\">\n",
       "      <th></th>\n",
       "      <th>Tweets</th>\n",
       "      <th>polarity</th>\n",
       "    </tr>\n",
       "  </thead>\n",
       "  <tbody>\n",
       "    <tr>\n",
       "      <th>0</th>\n",
       "      <td>RT @mfletcherchristian: This may be counterint...</td>\n",
       "      <td>{'neg': 0.0, 'neu': 0.859, 'pos': 0.141, 'comp...</td>\n",
       "    </tr>\n",
       "    <tr>\n",
       "      <th>1</th>\n",
       "      <td>RT @JrAstronautin: @SpaceX @SpaceHolgar Congra...</td>\n",
       "      <td>{'neg': 0.0, 'neu': 0.837, 'pos': 0.163, 'comp...</td>\n",
       "    </tr>\n",
       "    <tr>\n",
       "      <th>2</th>\n",
       "      <td>RT @SpaceX: Starlink satellites are equipped w...</td>\n",
       "      <td>{'neg': 0.155, 'neu': 0.845, 'pos': 0.0, 'comp...</td>\n",
       "    </tr>\n",
       "    <tr>\n",
       "      <th>3</th>\n",
       "      <td>RT @SpaceX: Falcon 9 launches 60 Starlink sate...</td>\n",
       "      <td>{'neg': 0.0, 'neu': 1.0, 'pos': 0.0, 'compound...</td>\n",
       "    </tr>\n",
       "    <tr>\n",
       "      <th>4</th>\n",
       "      <td>RT @elonmusk: @SpaceX Fairing halves recovered...</td>\n",
       "      <td>{'neg': 0.0, 'neu': 1.0, 'pos': 0.0, 'compound...</td>\n",
       "    </tr>\n",
       "    <tr>\n",
       "      <th>5</th>\n",
       "      <td>RT @thesheetztweetz: Scoop: @SpaceX amended it...</td>\n",
       "      <td>{'neg': 0.0, 'neu': 0.926, 'pos': 0.074, 'comp...</td>\n",
       "    </tr>\n",
       "    <tr>\n",
       "      <th>6</th>\n",
       "      <td>RT @novogratz: Wish they would tokenize @Space...</td>\n",
       "      <td>{'neg': 0.0, 'neu': 0.711, 'pos': 0.289, 'comp...</td>\n",
       "    </tr>\n",
       "    <tr>\n",
       "      <th>7</th>\n",
       "      <td>RT @Barnacules: Who else is excited for global...</td>\n",
       "      <td>{'neg': 0.089, 'neu': 0.809, 'pos': 0.102, 'co...</td>\n",
       "    </tr>\n",
       "    <tr>\n",
       "      <th>8</th>\n",
       "      <td>RT @SpaceX: Starlink will connect the globe wi...</td>\n",
       "      <td>{'neg': 0.0, 'neu': 1.0, 'pos': 0.0, 'compound...</td>\n",
       "    </tr>\n",
       "  </tbody>\n",
       "</table>\n",
       "</div>"
      ],
      "text/plain": [
       "                                              Tweets  \\\n",
       "0  RT @mfletcherchristian: This may be counterint...   \n",
       "1  RT @JrAstronautin: @SpaceX @SpaceHolgar Congra...   \n",
       "2  RT @SpaceX: Starlink satellites are equipped w...   \n",
       "3  RT @SpaceX: Falcon 9 launches 60 Starlink sate...   \n",
       "4  RT @elonmusk: @SpaceX Fairing halves recovered...   \n",
       "5  RT @thesheetztweetz: Scoop: @SpaceX amended it...   \n",
       "6  RT @novogratz: Wish they would tokenize @Space...   \n",
       "7  RT @Barnacules: Who else is excited for global...   \n",
       "8  RT @SpaceX: Starlink will connect the globe wi...   \n",
       "\n",
       "                                            polarity  \n",
       "0  {'neg': 0.0, 'neu': 0.859, 'pos': 0.141, 'comp...  \n",
       "1  {'neg': 0.0, 'neu': 0.837, 'pos': 0.163, 'comp...  \n",
       "2  {'neg': 0.155, 'neu': 0.845, 'pos': 0.0, 'comp...  \n",
       "3  {'neg': 0.0, 'neu': 1.0, 'pos': 0.0, 'compound...  \n",
       "4  {'neg': 0.0, 'neu': 1.0, 'pos': 0.0, 'compound...  \n",
       "5  {'neg': 0.0, 'neu': 0.926, 'pos': 0.074, 'comp...  \n",
       "6  {'neg': 0.0, 'neu': 0.711, 'pos': 0.289, 'comp...  \n",
       "7  {'neg': 0.089, 'neu': 0.809, 'pos': 0.102, 'co...  \n",
       "8  {'neg': 0.0, 'neu': 1.0, 'pos': 0.0, 'compound...  "
      ]
     },
     "metadata": {},
     "output_type": "display_data"
    }
   ],
   "source": [
    "sid = SentimentIntensityAnalyzer()\n",
    "listy = []\n",
    "for index, row in data.iterrows():\n",
    "  ss = sid.polarity_scores(row[\"Tweets\"])\n",
    "  listy.append(ss)  \n",
    "se = pd.Series(listy)\n",
    "data['polarity'] = se.values\n",
    "display(data.head(100))"
   ]
  },
  {
   "cell_type": "code",
   "execution_count": null,
   "metadata": {},
   "outputs": [],
   "source": []
  }
 ],
 "metadata": {
  "kernelspec": {
   "display_name": "Python 3",
   "language": "python",
   "name": "python3"
  },
  "language_info": {
   "codemirror_mode": {
    "name": "ipython",
    "version": 3
   },
   "file_extension": ".py",
   "mimetype": "text/x-python",
   "name": "python",
   "nbconvert_exporter": "python",
   "pygments_lexer": "ipython3",
   "version": "3.6.5"
  }
 },
 "nbformat": 4,
 "nbformat_minor": 2
}
